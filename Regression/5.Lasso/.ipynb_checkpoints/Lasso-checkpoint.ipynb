{
 "cells": [
  {
   "cell_type": "code",
   "execution_count": 3,
   "metadata": {
    "collapsed": false
   },
   "outputs": [],
   "source": [
    "import pandas as pd\n",
    "\n",
    "dtype_dict = {'bathrooms':float, 'waterfront':int, 'sqft_above':int, 'sqft_living15':float, 'grade':int, 'yr_renovated':int, 'price':float, 'bedrooms':float, 'zipcode':str, 'long':float, 'sqft_lot15':float, 'sqft_living':float, 'floors':float, 'condition':int, 'lat':float, 'date':str, 'sqft_basement':int, 'yr_built':int, 'id':str, 'sqft_lot':int, 'view':int}\n",
    "\n",
    "sales = pd.read_csv('../data/kc_house_data.csv', dtype=dtype_dict)\n"
   ]
  },
  {
   "cell_type": "code",
   "execution_count": 4,
   "metadata": {
    "collapsed": true
   },
   "outputs": [],
   "source": [
    "from math import log, sqrt\n",
    "sales['sqft_living_sqrt'] = sales['sqft_living'].apply(sqrt)\n",
    "sales['sqft_lot_sqrt'] = sales['sqft_lot'].apply(sqrt)\n",
    "sales['bedrooms_square'] = sales['bedrooms']*sales['bedrooms']\n",
    "sales['floors_square'] = sales['floors']*sales['floors']"
   ]
  },
  {
   "cell_type": "code",
   "execution_count": 5,
   "metadata": {
    "collapsed": false
   },
   "outputs": [
    {
     "name": "stdout",
     "output_type": "stream",
     "text": [
      "[     0.              0.              0.            134.43931396      0.\n",
      "      0.              0.              0.              0.              0.\n",
      "  24750.00458561      0.          61749.10309071      0.              0.\n",
      "     -0.              0.        ]\n"
     ]
    }
   ],
   "source": [
    "from sklearn import linear_model  # using scikit-learn\n",
    "\n",
    "all_features = ['bedrooms', 'bedrooms_square',\n",
    "            'bathrooms',\n",
    "            'sqft_living', 'sqft_living_sqrt',\n",
    "            'sqft_lot', 'sqft_lot_sqrt',\n",
    "            'floors', 'floors_square',\n",
    "            'waterfront', 'view', 'condition', 'grade',\n",
    "            'sqft_above',\n",
    "            'sqft_basement',\n",
    "            'yr_built', 'yr_renovated']\n",
    "\n",
    "model_all = linear_model.Lasso(alpha=5e2, normalize=True) # set parameters\n",
    "model_all.fit(sales[all_features], sales['price']) # learn weights\n",
    "print model_all.coef_"
   ]
  },
  {
   "cell_type": "code",
   "execution_count": 7,
   "metadata": {
    "collapsed": false
   },
   "outputs": [],
   "source": [
    "testing = pd.read_csv('../data/wk3_kc_house_test_data.csv', dtype=dtype_dict)\n",
    "training = pd.read_csv('../data/wk3_kc_house_train_data.csv', dtype=dtype_dict)\n",
    "validation = pd.read_csv('../data/wk3_kc_house_valid_data.csv', dtype=dtype_dict)"
   ]
  },
  {
   "cell_type": "code",
   "execution_count": 8,
   "metadata": {
    "collapsed": true
   },
   "outputs": [],
   "source": [
    "testing['sqft_living_sqrt'] = testing['sqft_living'].apply(sqrt)\n",
    "testing['sqft_lot_sqrt'] = testing['sqft_lot'].apply(sqrt)\n",
    "testing['bedrooms_square'] = testing['bedrooms']*testing['bedrooms']\n",
    "testing['floors_square'] = testing['floors']*testing['floors']\n",
    "\n",
    "training['sqft_living_sqrt'] = training['sqft_living'].apply(sqrt)\n",
    "training['sqft_lot_sqrt'] = training['sqft_lot'].apply(sqrt)\n",
    "training['bedrooms_square'] = training['bedrooms']*training['bedrooms']\n",
    "training['floors_square'] = training['floors']*training['floors']\n",
    "\n",
    "validation['sqft_living_sqrt'] = validation['sqft_living'].apply(sqrt)\n",
    "validation['sqft_lot_sqrt'] = validation['sqft_lot'].apply(sqrt)\n",
    "validation['bedrooms_square'] = validation['bedrooms']*validation['bedrooms']\n",
    "validation['floors_square'] = validation['floors']*validation['floors']"
   ]
  },
  {
   "cell_type": "code",
   "execution_count": 9,
   "metadata": {
    "collapsed": false
   },
   "outputs": [
    {
     "name": "stdout",
     "output_type": "stream",
     "text": [
      "10.0\n",
      "3.982133273e+14\n",
      "31.6227766017\n",
      "3.99041900253e+14\n",
      "100.0\n",
      "4.29791604073e+14\n",
      "316.227766017\n",
      "4.63739831045e+14\n",
      "1000.0\n",
      "6.45898733634e+14\n",
      "3162.27766017\n",
      "1.22250685943e+15\n",
      "10000.0\n",
      "1.22250685943e+15\n",
      "31622.7766017\n",
      "1.22250685943e+15\n",
      "100000.0\n",
      "1.22250685943e+15\n",
      "316227.766017\n",
      "1.22250685943e+15\n",
      "1000000.0\n",
      "1.22250685943e+15\n",
      "3162277.66017\n",
      "1.22250685943e+15\n",
      "10000000.0\n",
      "1.22250685943e+15\n"
     ]
    }
   ],
   "source": [
    "import numpy as np\n",
    "for l1_penalty in np.logspace(1, 7, num=13):\n",
    "    print l1_penalty\n",
    "    model = linear_model.Lasso(alpha=l1_penalty, normalize=True)\n",
    "    model.fit(training[all_features], training['price'])\n",
    "    predictions = model.predict(validation[all_features])\n",
    "    rss = 0\n",
    "    results = {}\n",
    "    for i in range(0, len(predictions)):\n",
    "        error = predictions[i] - validation['price'][i]\n",
    "        rss += error * error\n",
    "    print rss"
   ]
  },
  {
   "cell_type": "code",
   "execution_count": 10,
   "metadata": {
    "collapsed": false
   },
   "outputs": [
    {
     "name": "stdout",
     "output_type": "stream",
     "text": [
      "RSS on test data 1.32097426198e+15\n",
      "15\n"
     ]
    }
   ],
   "source": [
    "model = linear_model.Lasso(alpha=10.0, normalize=True) # set parameters\n",
    "model.fit(training[all_features], training['price']) # learn weights\n",
    "test = model.predict(testing[all_features])\n",
    "for i in range(0, len(test)):\n",
    "    error = test[i] - testing['price'][i]\n",
    "    rss += error * error\n",
    "\n",
    "print \"RSS on test data \" + str(rss)\n",
    "k = np.count_nonzero(model.coef_) + np.count_nonzero(model.intercept_)\n",
    "print k"
   ]
  },
  {
   "cell_type": "code",
   "execution_count": 11,
   "metadata": {
    "collapsed": false
   },
   "outputs": [
    {
     "name": "stdout",
     "output_type": "stream",
     "text": [
      "15\n",
      "1\n",
      "{42.813323987193932: 13, 1128.8378916846884: 3, 6951.9279617756056: 1, 1623.776739188721: 3, 14.384498882876629: 15, 2335.7214690901214: 2, 10.0: 15, 127.42749857031335: 10, 61.584821106602639: 12, 784.75997035146065: 5, 4832.9302385717519: 1, 183.29807108324357: 7, 20.691380811147901: 15, 263.66508987303581: 6, 3359.8182862837812: 1, 88.586679041008225: 11, 29.763514416313178: 15, 379.26901907322497: 6, 545.55947811685144: 6, 10000.0: 1}\n"
     ]
    }
   ],
   "source": [
    "max_nonzeros = 7\n",
    "alist = []\n",
    "for l1_penalty in np.logspace(1,4,num=20):\n",
    "    model = linear_model.Lasso(alpha=l1_penalty, normalize=True)\n",
    "    model.fit(training[all_features],training['price'])\n",
    "    alist.append(np.count_nonzero(model.coef_) + np.count_nonzero(model.intercept_))\n",
    "print max(alist)\n",
    "print min(alist)\n",
    "#print list(np.logspace(1,4,num=20))\n",
    "zero_dict = dict(zip(list(np.logspace(1,4,num=20)),alist))\n",
    "print zero_dict"
   ]
  },
  {
   "cell_type": "code",
   "execution_count": 12,
   "metadata": {
    "collapsed": false
   },
   "outputs": [
    {
     "name": "stdout",
     "output_type": "stream",
     "text": [
      "l1_penalty127.42749857\n",
      "[ -2.78660782e+03  -0.00000000e+00   1.62952813e+04   1.64911566e+02\n",
      "   0.00000000e+00  -0.00000000e+00  -4.87299465e+01   0.00000000e+00\n",
      "   3.90255150e+02   5.28876991e+05   4.24208113e+04   0.00000000e+00\n",
      "   1.18475470e+05   0.00000000e+00   0.00000000e+00  -2.82780772e+03\n",
      "   0.00000000e+00]\n",
      "non_zeros 10\n",
      "RSS : 4.35374677103e+14\n",
      "------------------\n",
      "l1_penalty134.597898113\n",
      "[ -9.16867351e+02  -0.00000000e+00   1.47218522e+04   1.63692844e+02\n",
      "   0.00000000e+00  -0.00000000e+00  -3.56625993e+01   0.00000000e+00\n",
      "   7.24404474e+00   5.23783564e+05   4.23757492e+04   0.00000000e+00\n",
      "   1.18244143e+05   0.00000000e+00   0.00000000e+00  -2.76685637e+03\n",
      "   0.00000000e+00]\n",
      "non_zeros 10\n",
      "RSS : 4.37009229124e+14\n",
      "------------------\n",
      "l1_penalty141.768297655\n",
      "[ -0.00000000e+00  -0.00000000e+00   1.31781404e+04   1.63173823e+02\n",
      "   0.00000000e+00  -0.00000000e+00  -2.18494884e+01   0.00000000e+00\n",
      "   0.00000000e+00   5.18208433e+05   4.22785669e+04   0.00000000e+00\n",
      "   1.17693998e+05   0.00000000e+00   0.00000000e+00  -2.71400283e+03\n",
      "   0.00000000e+00]\n",
      "non_zeros 8\n",
      "RSS : 4.38236128387e+14\n",
      "------------------\n",
      "l1_penalty148.938697197\n",
      "[ -0.00000000e+00  -0.00000000e+00   1.19321742e+04   1.63205204e+02\n",
      "   0.00000000e+00  -0.00000000e+00  -8.58996711e+00   0.00000000e+00\n",
      "   0.00000000e+00   5.12293882e+05   4.21118432e+04   0.00000000e+00\n",
      "   1.16978422e+05   0.00000000e+00   0.00000000e+00  -2.66331607e+03\n",
      "   0.00000000e+00]\n",
      "non_zeros 8\n",
      "RSS : 4.391589378e+14\n",
      "------------------\n",
      "l1_penalty156.109096739\n",
      "[ -0.00000000e+00  -0.00000000e+00   1.06108903e+04   1.63380252e+02\n",
      "   0.00000000e+00  -0.00000000e+00  -0.00000000e+00   0.00000000e+00\n",
      "   0.00000000e+00   5.06451687e+05   4.19600436e+04   0.00000000e+00\n",
      "   1.16253554e+05   0.00000000e+00   0.00000000e+00  -2.61223488e+03\n",
      "   0.00000000e+00]\n",
      "non_zeros 7\n",
      "RSS : 4.40037365263e+14\n",
      "------------------\n",
      "l1_penalty163.279496282\n",
      "[ -0.00000000e+00  -0.00000000e+00   9.08399800e+03   1.63867678e+02\n",
      "   0.00000000e+00  -0.00000000e+00  -0.00000000e+00   0.00000000e+00\n",
      "   0.00000000e+00   5.00735342e+05   4.18391681e+04   0.00000000e+00\n",
      "   1.15501948e+05   0.00000000e+00   0.00000000e+00  -2.55985417e+03\n",
      "   0.00000000e+00]\n",
      "non_zeros 7\n",
      "RSS : 4.40777489642e+14\n",
      "------------------\n",
      "l1_penalty170.449895824\n",
      "[ -0.00000000e+00  -0.00000000e+00   7.56724335e+03   1.64348567e+02\n",
      "   0.00000000e+00  -0.00000000e+00  -0.00000000e+00   0.00000000e+00\n",
      "   0.00000000e+00   4.95020632e+05   4.17176033e+04   0.00000000e+00\n",
      "   1.14751518e+05   0.00000000e+00   0.00000000e+00  -2.50756283e+03\n",
      "   0.00000000e+00]\n",
      "non_zeros 7\n",
      "RSS : 4.4156669809e+14\n",
      "------------------\n",
      "l1_penalty177.620295366\n",
      "[ -0.00000000e+00  -0.00000000e+00   6.05069742e+03   1.64829320e+02\n",
      "   0.00000000e+00  -0.00000000e+00  -0.00000000e+00   0.00000000e+00\n",
      "   0.00000000e+00   4.89305942e+05   4.15960267e+04   0.00000000e+00\n",
      "   1.14001111e+05   0.00000000e+00   0.00000000e+00  -2.45527328e+03\n",
      "   0.00000000e+00]\n",
      "non_zeros 7\n",
      "RSS : 4.42406413189e+14\n",
      "------------------\n",
      "l1_penalty184.790694908\n",
      "[ -0.00000000e+00  -0.00000000e+00   4.53385976e+03   1.65310261e+02\n",
      "   0.00000000e+00  -0.00000000e+00  -0.00000000e+00   0.00000000e+00\n",
      "   0.00000000e+00   4.83591194e+05   4.14744713e+04   0.00000000e+00\n",
      "   1.13250668e+05   0.00000000e+00   0.00000000e+00  -2.40298114e+03\n",
      "   0.00000000e+00]\n",
      "non_zeros 7\n",
      "RSS : 4.43296716874e+14\n",
      "------------------\n",
      "l1_penalty191.961094451\n",
      "[ -0.00000000e+00  -0.00000000e+00   3.00468175e+03   1.65799135e+02\n",
      "   0.00000000e+00  -0.00000000e+00  -0.00000000e+00   0.00000000e+00\n",
      "   0.00000000e+00   4.77874581e+05   4.13537363e+04   0.00000000e+00\n",
      "   1.12498826e+05   0.00000000e+00   0.00000000e+00  -2.35058053e+03\n",
      "   0.00000000e+00]\n",
      "non_zeros 7\n",
      "RSS : 4.44239780526e+14\n",
      "------------------\n",
      "l1_penalty199.131493993\n",
      "[ -0.00000000e+00  -0.00000000e+00   1.49058857e+03   1.66278312e+02\n",
      "   0.00000000e+00  -0.00000000e+00  -0.00000000e+00   0.00000000e+00\n",
      "   0.00000000e+00   4.72160342e+05   4.12319841e+04   0.00000000e+00\n",
      "   1.11748709e+05   0.00000000e+00   0.00000000e+00  -2.29831279e+03\n",
      "   0.00000000e+00]\n",
      "non_zeros 7\n",
      "RSS : 4.45230739843e+14\n",
      "------------------\n",
      "l1_penalty206.301893535\n",
      "[ -0.00000000e+00  -0.00000000e+00   0.00000000e+00   1.66758353e+02\n",
      "   0.00000000e+00  -0.00000000e+00  -0.00000000e+00   0.00000000e+00\n",
      "   0.00000000e+00   4.66443871e+05   4.11103735e+04   0.00000000e+00\n",
      "   1.10991036e+05   0.00000000e+00   0.00000000e+00  -2.24622780e+03\n",
      "   0.00000000e+00]\n",
      "non_zeros 6\n",
      "RSS : 4.46268896865e+14\n",
      "------------------\n",
      "l1_penalty213.472293077\n",
      "[ -0.00000000e+00  -0.00000000e+00   0.00000000e+00   1.66450834e+02\n",
      "   0.00000000e+00  -0.00000000e+00  -0.00000000e+00   0.00000000e+00\n",
      "   0.00000000e+00   4.60712367e+05   4.09833147e+04   0.00000000e+00\n",
      "   1.10178673e+05   0.00000000e+00   0.00000000e+00  -2.20481370e+03\n",
      "   0.00000000e+00]\n",
      "non_zeros 6\n",
      "RSS : 4.47112919435e+14\n",
      "------------------\n",
      "l1_penalty220.64269262\n",
      "[ -0.00000000e+00  -0.00000000e+00   0.00000000e+00   1.66143260e+02\n",
      "   0.00000000e+00  -0.00000000e+00  -0.00000000e+00   0.00000000e+00\n",
      "   0.00000000e+00   4.54980884e+05   4.08562497e+04   0.00000000e+00\n",
      "   1.09366347e+05   0.00000000e+00   0.00000000e+00  -2.16339969e+03\n",
      "   0.00000000e+00]\n",
      "non_zeros 6\n",
      "RSS : 4.47998187852e+14\n",
      "------------------\n",
      "l1_penalty227.813092162\n",
      "[ -0.00000000e+00  -0.00000000e+00   0.00000000e+00   1.65835685e+02\n",
      "   0.00000000e+00  -0.00000000e+00  -0.00000000e+00   0.00000000e+00\n",
      "   0.00000000e+00   4.49249401e+05   4.07291847e+04   0.00000000e+00\n",
      "   1.08554021e+05   0.00000000e+00   0.00000000e+00  -2.12198568e+03\n",
      "   0.00000000e+00]\n",
      "non_zeros 6\n",
      "RSS : 4.48924706673e+14\n",
      "------------------\n",
      "l1_penalty234.983491704\n",
      "[ -0.00000000e+00  -0.00000000e+00   0.00000000e+00   1.65528110e+02\n",
      "   0.00000000e+00  -0.00000000e+00  -0.00000000e+00   0.00000000e+00\n",
      "   0.00000000e+00   4.43517917e+05   4.06021197e+04   0.00000000e+00\n",
      "   1.07741695e+05   0.00000000e+00   0.00000000e+00  -2.08057167e+03\n",
      "   0.00000000e+00]\n",
      "non_zeros 6\n",
      "RSS : 4.498924759e+14\n",
      "------------------\n",
      "l1_penalty242.153891246\n",
      "[ -0.00000000e+00  -0.00000000e+00   0.00000000e+00   1.65220582e+02\n",
      "   0.00000000e+00  -0.00000000e+00  -0.00000000e+00   0.00000000e+00\n",
      "   0.00000000e+00   4.37786417e+05   4.04750599e+04   0.00000000e+00\n",
      "   1.06929339e+05   0.00000000e+00   0.00000000e+00  -2.03915758e+03\n",
      "   0.00000000e+00]\n",
      "non_zeros 6\n",
      "RSS : 4.50901498778e+14\n",
      "------------------\n",
      "l1_penalty249.324290789\n",
      "[ -0.00000000e+00  -0.00000000e+00   0.00000000e+00   1.64922876e+02\n",
      "   0.00000000e+00  -0.00000000e+00  -0.00000000e+00   0.00000000e+00\n",
      "   0.00000000e+00   4.32051333e+05   4.03490833e+04   0.00000000e+00\n",
      "   1.06110636e+05   0.00000000e+00   0.00000000e+00  -1.99772770e+03\n",
      "   0.00000000e+00]\n",
      "non_zeros 6\n",
      "RSS : 4.51952426655e+14\n",
      "------------------\n",
      "l1_penalty256.494690331\n",
      "[ -0.00000000e+00  -0.00000000e+00   0.00000000e+00   1.64615317e+02\n",
      "   0.00000000e+00  -0.00000000e+00  -0.00000000e+00   0.00000000e+00\n",
      "   0.00000000e+00   4.26319844e+05   4.02220200e+04   0.00000000e+00\n",
      "   1.05298299e+05   0.00000000e+00   0.00000000e+00  -1.95631367e+03\n",
      "   0.00000000e+00]\n",
      "non_zeros 6\n",
      "RSS : 4.53043924368e+14\n",
      "------------------\n",
      "l1_penalty263.665089873\n",
      "[ -0.00000000e+00  -0.00000000e+00   0.00000000e+00   1.64307714e+02\n",
      "   0.00000000e+00  -0.00000000e+00  -0.00000000e+00   0.00000000e+00\n",
      "   0.00000000e+00   4.20588371e+05   4.00949519e+04   0.00000000e+00\n",
      "   1.04485992e+05   0.00000000e+00   0.00000000e+00  -1.91489970e+03\n",
      "   0.00000000e+00]\n",
      "non_zeros 6\n",
      "RSS : 4.54176669663e+14\n",
      "------------------\n"
     ]
    }
   ],
   "source": [
    "l1_penalty_min = 127.42749857031335\n",
    "l1_penalty_max = 263.66508987303581\n",
    "for l1_penalty in np.linspace(l1_penalty_min,l1_penalty_max,20):\n",
    "    print \"l1_penalty\" + str(l1_penalty)\n",
    "    model = linear_model.Lasso(alpha=l1_penalty, normalize=True)\n",
    "    model.fit(training[all_features], training['price'])\n",
    "    predictions = model.predict(validation[all_features])\n",
    "    rss = 0\n",
    "    results = {}\n",
    "    print model.coef_\n",
    "    k = np.count_nonzero(model.coef_) + np.count_nonzero(model.intercept_)\n",
    "    print \"non_zeros \" + str(k)\n",
    "    for i in range(0, len(predictions)):\n",
    "        error = predictions[i] - validation['price'][i]\n",
    "        rss += error * error\n",
    "    print \"RSS : \"+str(rss)\n",
    "    print \"------------------\"\n",
    "    "
   ]
  }
 ],
 "metadata": {
  "kernelspec": {
   "display_name": "Python [Root]",
   "language": "python",
   "name": "Python [Root]"
  },
  "language_info": {
   "codemirror_mode": {
    "name": "ipython",
    "version": 2
   },
   "file_extension": ".py",
   "mimetype": "text/x-python",
   "name": "python",
   "nbconvert_exporter": "python",
   "pygments_lexer": "ipython2",
   "version": "2.7.12"
  }
 },
 "nbformat": 4,
 "nbformat_minor": 0
}
